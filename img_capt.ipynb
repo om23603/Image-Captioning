{
 "cells": [
  {
   "cell_type": "code",
   "execution_count": 6,
   "id": "ec8918d9",
   "metadata": {},
   "outputs": [],
   "source": [
    "from transformers import BlipProcessor, BlipForConditionalGeneration\n",
    "from PIL import Image\n",
    "import gradio as gr"
   ]
  },
  {
   "cell_type": "code",
   "execution_count": 7,
   "id": "ec7eb631",
   "metadata": {},
   "outputs": [],
   "source": [
    "# Initialize the processor and model from Hugging Face\n",
    "processor = BlipProcessor.from_pretrained(\"Salesforce/blip-image-captioning-base\")\n",
    "model = BlipForConditionalGeneration.from_pretrained(\"Salesforce/blip-image-captioning-base\")"
   ]
  },
  {
   "cell_type": "code",
   "execution_count": 8,
   "id": "e4e29a95",
   "metadata": {},
   "outputs": [],
   "source": [
    "def gen_caption(image):\n",
    "    inputs = processor(images=image, return_tensors=\"pt\")\n",
    "    outputs = model.generate(**inputs)\n",
    "    caption = processor.decode(outputs[0], skip_special_token=True)\n",
    "    return caption "
   ]
  },
  {
   "cell_type": "code",
   "execution_count": 9,
   "id": "cfc32078",
   "metadata": {},
   "outputs": [],
   "source": [
    "def caption_img(image):\n",
    "    try:\n",
    "        caption = gen_caption(image)\n",
    "        return caption\n",
    "    except Exception as e:\n",
    "        return f\"An error occured: {str(e)}\""
   ]
  },
  {
   "cell_type": "code",
   "execution_count": 10,
   "id": "a58fc3b9",
   "metadata": {},
   "outputs": [
    {
     "name": "stdout",
     "output_type": "stream",
     "text": [
      "* Running on local URL:  http://localhost:7862\n",
      "* To create a public link, set `share=True` in `launch()`.\n"
     ]
    },
    {
     "data": {
      "text/html": [
       "<div><iframe src=\"http://localhost:7862/\" width=\"100%\" height=\"500\" allow=\"autoplay; camera; microphone; clipboard-read; clipboard-write;\" frameborder=\"0\" allowfullscreen></iframe></div>"
      ],
      "text/plain": [
       "<IPython.core.display.HTML object>"
      ]
     },
     "metadata": {},
     "output_type": "display_data"
    },
    {
     "data": {
      "text/plain": []
     },
     "execution_count": 10,
     "metadata": {},
     "output_type": "execute_result"
    }
   ],
   "source": [
    "ui = gr.Interface(\n",
    "    fn = caption_img,\n",
    "    inputs = gr.Image(type=\"pil\"),\n",
    "    outputs = \"text\",\n",
    "    title = \"Image Captioning\",\n",
    "    description = \"Upload an image to generate caption.\"\n",
    ")\n",
    "\n",
    "ui.launch(server_name=\"localhost\")"
   ]
  },
  {
   "cell_type": "code",
   "execution_count": null,
   "id": "55aca3d1",
   "metadata": {},
   "outputs": [],
   "source": []
  }
 ],
 "metadata": {
  "kernelspec": {
   "display_name": "Python 3",
   "language": "python",
   "name": "python3"
  },
  "language_info": {
   "codemirror_mode": {
    "name": "ipython",
    "version": 3
   },
   "file_extension": ".py",
   "mimetype": "text/x-python",
   "name": "python",
   "nbconvert_exporter": "python",
   "pygments_lexer": "ipython3",
   "version": "3.12.3"
  }
 },
 "nbformat": 4,
 "nbformat_minor": 5
}
