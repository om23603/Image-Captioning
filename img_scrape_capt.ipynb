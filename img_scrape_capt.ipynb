{
 "cells": [
  {
   "cell_type": "code",
   "execution_count": 4,
   "id": "11db2095",
   "metadata": {},
   "outputs": [],
   "source": [
    "import requests\n",
    "from PIL import Image\n",
    "from io import BytesIO\n",
    "from bs4 import BeautifulSoup\n",
    "from transformers import AutoProcessor, BlipForConditionalGeneration"
   ]
  },
  {
   "cell_type": "code",
   "execution_count": 5,
   "id": "8e4441a5",
   "metadata": {},
   "outputs": [],
   "source": [
    "processor = AutoProcessor.from_pretrained(\"Salesforce/blip-image-captioning-base\")\n",
    "model = BlipForConditionalGeneration.from_pretrained(\"Salesforce/blip-image-captioning-base\")"
   ]
  },
  {
   "cell_type": "code",
   "execution_count": 6,
   "id": "8ed75800",
   "metadata": {},
   "outputs": [],
   "source": [
    "response = requests.get(\"https://en.wikipedia.org/wiki/Google\")\n",
    "soup = BeautifulSoup(response.text, 'html.parser')"
   ]
  },
  {
   "cell_type": "code",
   "execution_count": 7,
   "id": "83905f83",
   "metadata": {},
   "outputs": [],
   "source": [
    "img_elements = soup.find_all(\"img\")"
   ]
  },
  {
   "cell_type": "code",
   "execution_count": 10,
   "id": "a7225092",
   "metadata": {},
   "outputs": [],
   "source": [
    "with open('captions.txt', 'w') as cap_file:\n",
    "    for img in img_elements:\n",
    "        img_url = img.get('src')\n",
    "\n",
    "        # Skip if image SVG or too small\n",
    "        if 'svg' in img_url or '1x1' in img_url:\n",
    "            continue\n",
    "        \n",
    "        # Correct URL\n",
    "        if img_url.startswith('//'):\n",
    "            img_url = 'https:' + img_url\n",
    "\n",
    "        # Skip URLs that don't start with http:// or https://\n",
    "        elif not img_url.startswith('http://') or not img_url.startswith('https://'):\n",
    "            continue\n",
    "\n",
    "        try:\n",
    "            response = requests.get(img_url)\n",
    "            # Convert image data to PIL Image\n",
    "            raw_img = Image.open(BytesIO(response.content))\n",
    "            # Skip very small images\n",
    "            if raw_img.size[0] * raw_img.size[1] < 400:\n",
    "                continue\n",
    "\n",
    "            raw_img = raw_img.convert('RGB')\n",
    "\n",
    "            # Process image, generate & decode caption\n",
    "            inp = processor(images=raw_img, return_tensors='pt')\n",
    "            out = model.generate(**inp)\n",
    "            caption = processor.decode(out[0], skip_special_tokens=True)\n",
    "\n",
    "            cap_file.write(\"{}: {}\\n\".format(img_url, caption))\n",
    "        except Exception as e:\n",
    "            print(\"Error processing image {}: {}\".format(img_url, e))\n",
    "            continue"
   ]
  }
 ],
 "metadata": {
  "kernelspec": {
   "display_name": "Python 3",
   "language": "python",
   "name": "python3"
  },
  "language_info": {
   "codemirror_mode": {
    "name": "ipython",
    "version": 3
   },
   "file_extension": ".py",
   "mimetype": "text/x-python",
   "name": "python",
   "nbconvert_exporter": "python",
   "pygments_lexer": "ipython3",
   "version": "3.12.3"
  }
 },
 "nbformat": 4,
 "nbformat_minor": 5
}
